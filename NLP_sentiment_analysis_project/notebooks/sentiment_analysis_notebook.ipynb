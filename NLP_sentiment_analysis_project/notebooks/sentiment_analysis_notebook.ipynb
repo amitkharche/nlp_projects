{
 "cells": [
  {
   "cell_type": "markdown",
   "id": "a79cde8b",
   "metadata": {},
   "source": [
    "# 📝 Sentiment Analysis of Product Reviews\n",
    "This notebook demonstrates the full workflow of building a sentiment analysis model."
   ]
  },
  {
   "cell_type": "code",
   "execution_count": null,
   "id": "94425cbb",
   "metadata": {},
   "outputs": [],
   "source": [
    "import pandas as pd\n",
    "import numpy as np\n",
    "import pickle\n",
    "from sklearn.model_selection import train_test_split\n",
    "from sklearn.feature_extraction.text import TfidfVectorizer\n",
    "from sklearn.linear_model import LogisticRegression\n",
    "from sklearn.pipeline import Pipeline\n",
    "from sklearn.metrics import classification_report, confusion_matrix\n",
    "import seaborn as sns\n",
    "import matplotlib.pyplot as plt\n"
   ]
  },
  {
   "cell_type": "markdown",
   "id": "f79c3701",
   "metadata": {},
   "source": [
    "## 📥 Load Dataset"
   ]
  },
  {
   "cell_type": "code",
   "execution_count": null,
   "id": "2824411e",
   "metadata": {},
   "outputs": [],
   "source": [
    "df = pd.read_csv(\"data/simulated_reviews.csv\")\n",
    "df.head()\n"
   ]
  },
  {
   "cell_type": "markdown",
   "id": "fc3aab42",
   "metadata": {},
   "source": [
    "## 🔍 Exploratory Data Analysis"
   ]
  },
  {
   "cell_type": "code",
   "execution_count": null,
   "id": "6b1d29c5",
   "metadata": {},
   "outputs": [],
   "source": [
    "df['Sentiment'].value_counts()\n"
   ]
  },
  {
   "cell_type": "code",
   "execution_count": null,
   "id": "ae0f56e0",
   "metadata": {},
   "outputs": [],
   "source": [
    "sns.countplot(data=df, x='Sentiment')\n",
    "plt.title(\"Sentiment Distribution\")\n",
    "plt.show()\n"
   ]
  },
  {
   "cell_type": "markdown",
   "id": "68990299",
   "metadata": {},
   "source": [
    "## 🧹 Preprocessing and Model Training"
   ]
  },
  {
   "cell_type": "code",
   "execution_count": null,
   "id": "c3c826b2",
   "metadata": {},
   "outputs": [],
   "source": [
    "X = df[\"Review\"]\n",
    "y = df[\"Sentiment\"]\n",
    "\n",
    "X_train, X_test, y_train, y_test = train_test_split(X, y, test_size=0.2, random_state=42)\n",
    "\n",
    "pipeline = Pipeline([\n",
    "    ('tfidf', TfidfVectorizer(stop_words='english')),\n",
    "    ('clf', LogisticRegression(max_iter=1000))\n",
    "])\n",
    "\n",
    "pipeline.fit(X_train, y_train)\n",
    "y_pred = pipeline.predict(X_test)\n"
   ]
  },
  {
   "cell_type": "markdown",
   "id": "fd6c4f11",
   "metadata": {},
   "source": [
    "## 📊 Model Evaluation"
   ]
  },
  {
   "cell_type": "code",
   "execution_count": null,
   "id": "e82cff3b",
   "metadata": {},
   "outputs": [],
   "source": [
    "print(classification_report(y_test, y_pred))\n"
   ]
  },
  {
   "cell_type": "code",
   "execution_count": null,
   "id": "700bb5bb",
   "metadata": {},
   "outputs": [],
   "source": [
    "conf_mat = confusion_matrix(y_test, y_pred, labels=[\"Positive\", \"Neutral\", \"Negative\"])\n",
    "sns.heatmap(conf_mat, annot=True, fmt='d', xticklabels=[\"Positive\", \"Neutral\", \"Negative\"], yticklabels=[\"Positive\", \"Neutral\", \"Negative\"])\n",
    "plt.xlabel(\"Predicted\")\n",
    "plt.ylabel(\"Actual\")\n",
    "plt.title(\"Confusion Matrix\")\n",
    "plt.show()\n"
   ]
  },
  {
   "cell_type": "markdown",
   "id": "45c38a95",
   "metadata": {},
   "source": [
    "## 💾 Save Trained Model"
   ]
  },
  {
   "cell_type": "code",
   "execution_count": null,
   "id": "e53c286d",
   "metadata": {},
   "outputs": [],
   "source": [
    "import os\n",
    "os.makedirs(\"model\", exist_ok=True)\n",
    "with open(\"model/sentiment_model.pkl\", \"wb\") as f:\n",
    "    pickle.dump(pipeline, f)\n"
   ]
  }
 ],
 "metadata": {},
 "nbformat": 4,
 "nbformat_minor": 5
}
