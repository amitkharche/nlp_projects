{
 "cells": [
  {
   "cell_type": "markdown",
   "id": "ba3db2d3",
   "metadata": {},
   "source": [
    "# 📚 Topic Modeling of Research Papers\n",
    "This notebook demonstrates topic modeling using LDA on research paper abstracts."
   ]
  },
  {
   "cell_type": "code",
   "execution_count": null,
   "id": "45682d06",
   "metadata": {},
   "outputs": [],
   "source": [
    "import pandas as pd\n",
    "import numpy as np\n",
    "import matplotlib.pyplot as plt\n",
    "import seaborn as sns\n",
    "import pickle\n",
    "\n",
    "from sklearn.feature_extraction.text import CountVectorizer\n",
    "from sklearn.decomposition import LatentDirichletAllocation\n",
    "from wordcloud import WordCloud\n"
   ]
  },
  {
   "cell_type": "markdown",
   "id": "6514e719",
   "metadata": {},
   "source": [
    "## 📥 Load Dataset"
   ]
  },
  {
   "cell_type": "code",
   "execution_count": null,
   "id": "bebf031d",
   "metadata": {},
   "outputs": [],
   "source": [
    "df = pd.read_csv(\"data/simulated_research_papers.csv\")\n",
    "df.head()\n"
   ]
  },
  {
   "cell_type": "markdown",
   "id": "7890a712",
   "metadata": {},
   "source": [
    "## 🔍 Data Exploration"
   ]
  },
  {
   "cell_type": "code",
   "execution_count": null,
   "id": "7beca782",
   "metadata": {},
   "outputs": [],
   "source": [
    "df['Abstract'].str.len().hist(bins=10)\n",
    "plt.title(\"Distribution of Abstract Length\")\n",
    "plt.xlabel(\"Characters\")\n",
    "plt.ylabel(\"Frequency\")\n",
    "plt.show()\n"
   ]
  },
  {
   "cell_type": "markdown",
   "id": "19482ca5",
   "metadata": {},
   "source": [
    "## 🧹 Text Vectorization"
   ]
  },
  {
   "cell_type": "code",
   "execution_count": null,
   "id": "e79a9f60",
   "metadata": {},
   "outputs": [],
   "source": [
    "vectorizer = CountVectorizer(max_df=0.95, min_df=2, stop_words='english')\n",
    "X_counts = vectorizer.fit_transform(df['Abstract'])\n",
    "X_counts.shape\n"
   ]
  },
  {
   "cell_type": "markdown",
   "id": "331e983f",
   "metadata": {},
   "source": [
    "## 🧠 Topic Modeling with LDA"
   ]
  },
  {
   "cell_type": "code",
   "execution_count": null,
   "id": "04a9fe57",
   "metadata": {},
   "outputs": [],
   "source": [
    "lda_model = LatentDirichletAllocation(n_components=5, max_iter=10, learning_method='online', random_state=42)\n",
    "lda_model.fit(X_counts)\n"
   ]
  },
  {
   "cell_type": "markdown",
   "id": "dafbaa76",
   "metadata": {},
   "source": [
    "## 🔍 Top Words per Topic"
   ]
  },
  {
   "cell_type": "code",
   "execution_count": null,
   "id": "79a08db2",
   "metadata": {},
   "outputs": [],
   "source": [
    "def display_topics(model, feature_names, no_top_words):\n",
    "    for idx, topic in enumerate(model.components_):\n",
    "        print(f\"Topic {idx+1}:\")\n",
    "        print(\" \".join([feature_names[i] for i in topic.argsort()[:-no_top_words - 1:-1]]))\n",
    "\n",
    "display_topics(lda_model, vectorizer.get_feature_names_out(), 10)\n"
   ]
  },
  {
   "cell_type": "markdown",
   "id": "ea2c87de",
   "metadata": {},
   "source": [
    "## 📊 Topic Distribution for Documents"
   ]
  },
  {
   "cell_type": "code",
   "execution_count": null,
   "id": "af97d858",
   "metadata": {},
   "outputs": [],
   "source": [
    "topic_distribution = lda_model.transform(X_counts)\n",
    "df_topic = pd.DataFrame(topic_distribution, columns=[f\"Topic_{i+1}\" for i in range(topic_distribution.shape[1])])\n",
    "df = pd.concat([df, df_topic], axis=1)\n",
    "df.head()\n"
   ]
  },
  {
   "cell_type": "markdown",
   "id": "92482267",
   "metadata": {},
   "source": [
    "## 💾 Save Model and Vectorizer"
   ]
  },
  {
   "cell_type": "code",
   "execution_count": null,
   "id": "95e47adb",
   "metadata": {},
   "outputs": [],
   "source": [
    "import os\n",
    "os.makedirs(\"model\", exist_ok=True)\n",
    "with open(\"model/lda_model.pkl\", \"wb\") as f:\n",
    "    pickle.dump(lda_model, f)\n",
    "with open(\"model/vectorizer.pkl\", \"wb\") as f:\n",
    "    pickle.dump(vectorizer, f)\n"
   ]
  }
 ],
 "metadata": {},
 "nbformat": 4,
 "nbformat_minor": 5
}
