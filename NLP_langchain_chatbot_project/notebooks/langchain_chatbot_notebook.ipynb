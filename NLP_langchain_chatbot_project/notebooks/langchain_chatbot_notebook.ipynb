{
 "cells": [
  {
   "cell_type": "markdown",
   "id": "115342f4",
   "metadata": {},
   "source": [
    "# 🤖 LangChain HR Chatbot Notebook\n",
    "This notebook demonstrates how to build a domain-specific chatbot using LangChain and OpenAI."
   ]
  },
  {
   "cell_type": "code",
   "execution_count": null,
   "id": "b0e7e6c1",
   "metadata": {},
   "outputs": [],
   "source": [
    "import os\n",
    "import pandas as pd\n",
    "from langchain.text_splitter import CharacterTextSplitter\n",
    "from langchain.embeddings import OpenAIEmbeddings\n",
    "from langchain.vectorstores import FAISS\n",
    "from langchain.chat_models import ChatOpenAI\n",
    "from langchain.chains import RetrievalQA\n"
   ]
  },
  {
   "cell_type": "markdown",
   "id": "8b82d4f2",
   "metadata": {},
   "source": [
    "## 📥 Load Dataset"
   ]
  },
  {
   "cell_type": "code",
   "execution_count": null,
   "id": "235a08ba",
   "metadata": {},
   "outputs": [],
   "source": [
    "df = pd.read_csv(\"data/hr_faq.csv\")\n",
    "df.head()\n"
   ]
  },
  {
   "cell_type": "markdown",
   "id": "d28567ef",
   "metadata": {},
   "source": [
    "## 🧹 Text Preprocessing and Vector Store Creation"
   ]
  },
  {
   "cell_type": "code",
   "execution_count": null,
   "id": "41f19880",
   "metadata": {},
   "outputs": [],
   "source": [
    "docs = [f\"Q: {row['Question']}\\nA: {row['Answer']}\" for _, row in df.iterrows()]\n",
    "splitter = CharacterTextSplitter(chunk_size=500, chunk_overlap=100)\n",
    "texts = splitter.create_documents(docs)\n",
    "\n",
    "embeddings = OpenAIEmbeddings()\n",
    "vectordb = FAISS.from_documents(texts, embeddings)\n",
    "vectordb.save_local(\"model\")\n"
   ]
  },
  {
   "cell_type": "markdown",
   "id": "94061932",
   "metadata": {},
   "source": [
    "## 🧠 Load Model and Create Chat Chain"
   ]
  },
  {
   "cell_type": "code",
   "execution_count": null,
   "id": "8e4097d9",
   "metadata": {},
   "outputs": [],
   "source": [
    "vectordb = FAISS.load_local(\"model\", OpenAIEmbeddings())\n",
    "llm = ChatOpenAI(model_name=\"gpt-3.5-turbo\", temperature=0.3)\n",
    "qa_chain = RetrievalQA.from_chain_type(llm=llm, retriever=vectordb.as_retriever())\n"
   ]
  },
  {
   "cell_type": "markdown",
   "id": "9bd52ea5",
   "metadata": {},
   "source": [
    "## 💬 Ask Questions"
   ]
  },
  {
   "cell_type": "code",
   "execution_count": null,
   "id": "d54ef0b9",
   "metadata": {},
   "outputs": [],
   "source": [
    "query = \"How many leaves do employees get annually?\"\n",
    "response = qa_chain.run(query)\n",
    "print(\"🤖 Answer:\", response)\n"
   ]
  }
 ],
 "metadata": {},
 "nbformat": 4,
 "nbformat_minor": 5
}
