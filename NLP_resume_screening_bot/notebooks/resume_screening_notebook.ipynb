{
 "cells": [
  {
   "cell_type": "markdown",
   "id": "54b31758",
   "metadata": {},
   "source": [
    "# 🧠 Resume Screening Bot\n",
    "This notebook demonstrates the full pipeline for building a resume classification model."
   ]
  },
  {
   "cell_type": "code",
   "execution_count": null,
   "id": "6ad5f58b",
   "metadata": {},
   "outputs": [],
   "source": [
    "import pandas as pd\n",
    "import numpy as np\n",
    "import pickle\n",
    "from sklearn.model_selection import train_test_split\n",
    "from sklearn.pipeline import Pipeline\n",
    "from sklearn.feature_extraction.text import TfidfVectorizer\n",
    "from sklearn.linear_model import LogisticRegression\n",
    "from sklearn.metrics import classification_report, confusion_matrix\n",
    "import seaborn as sns\n",
    "import matplotlib.pyplot as plt\n"
   ]
  },
  {
   "cell_type": "markdown",
   "id": "26b194b1",
   "metadata": {},
   "source": [
    "## 📥 Load Dataset"
   ]
  },
  {
   "cell_type": "code",
   "execution_count": null,
   "id": "54749fb7",
   "metadata": {},
   "outputs": [],
   "source": [
    "df = pd.read_csv(\"data/synthetic_resumes.csv\")\n",
    "df.head()\n"
   ]
  },
  {
   "cell_type": "markdown",
   "id": "ac3f247e",
   "metadata": {},
   "source": [
    "## 🔍 Exploratory Data Analysis"
   ]
  },
  {
   "cell_type": "code",
   "execution_count": null,
   "id": "c5e3362f",
   "metadata": {},
   "outputs": [],
   "source": [
    "df['Job_Fit'].value_counts()\n"
   ]
  },
  {
   "cell_type": "code",
   "execution_count": null,
   "id": "d033ffc4",
   "metadata": {},
   "outputs": [],
   "source": [
    "sns.countplot(data=df, x='Job_Fit')\n",
    "plt.title(\"Job Fit Category Distribution\")\n",
    "plt.xticks(rotation=45)\n",
    "plt.show()\n"
   ]
  },
  {
   "cell_type": "markdown",
   "id": "9f09ca6f",
   "metadata": {},
   "source": [
    "## ✂️ Preprocessing and Model Training"
   ]
  },
  {
   "cell_type": "code",
   "execution_count": null,
   "id": "202f9e30",
   "metadata": {},
   "outputs": [],
   "source": [
    "X = df[\"Resume_Text\"]\n",
    "y = df[\"Job_Fit\"]\n",
    "\n",
    "X_train, X_test, y_train, y_test = train_test_split(X, y, test_size=0.2, random_state=42)\n",
    "\n",
    "pipeline = Pipeline([\n",
    "    ('tfidf', TfidfVectorizer(stop_words='english')),\n",
    "    ('clf', LogisticRegression(max_iter=1000))\n",
    "])\n",
    "\n",
    "pipeline.fit(X_train, y_train)\n",
    "y_pred = pipeline.predict(X_test)\n"
   ]
  },
  {
   "cell_type": "markdown",
   "id": "191d4c30",
   "metadata": {},
   "source": [
    "## 📊 Model Evaluation"
   ]
  },
  {
   "cell_type": "code",
   "execution_count": null,
   "id": "a0f800a2",
   "metadata": {},
   "outputs": [],
   "source": [
    "print(classification_report(y_test, y_pred))\n"
   ]
  },
  {
   "cell_type": "code",
   "execution_count": null,
   "id": "da446a7d",
   "metadata": {},
   "outputs": [],
   "source": [
    "conf_mat = confusion_matrix(y_test, y_pred, labels=pipeline.classes_)\n",
    "sns.heatmap(conf_mat, annot=True, fmt='d', xticklabels=pipeline.classes_, yticklabels=pipeline.classes_)\n",
    "plt.xlabel(\"Predicted\")\n",
    "plt.ylabel(\"Actual\")\n",
    "plt.title(\"Confusion Matrix\")\n",
    "plt.xticks(rotation=45)\n",
    "plt.yticks(rotation=45)\n",
    "plt.tight_layout()\n",
    "plt.show()\n"
   ]
  },
  {
   "cell_type": "markdown",
   "id": "488416df",
   "metadata": {},
   "source": [
    "## 💾 Save Trained Model"
   ]
  },
  {
   "cell_type": "code",
   "execution_count": null,
   "id": "90cbde1b",
   "metadata": {},
   "outputs": [],
   "source": [
    "import os\n",
    "os.makedirs(\"model\", exist_ok=True)\n",
    "with open(\"model/resume_model.pkl\", \"wb\") as f:\n",
    "    pickle.dump(pipeline, f)\n"
   ]
  }
 ],
 "metadata": {},
 "nbformat": 4,
 "nbformat_minor": 5
}
